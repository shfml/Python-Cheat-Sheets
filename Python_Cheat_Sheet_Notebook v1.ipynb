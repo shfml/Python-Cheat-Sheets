{
  "nbformat": 4,
  "nbformat_minor": 0,
  "metadata": {
    "colab": {
      "provenance": [],
      "collapsed_sections": [],
      "authorship_tag": "ABX9TyPWfdHyROxxItHPHxzSLoh9",
      "include_colab_link": true
    },
    "kernelspec": {
      "name": "python3",
      "display_name": "Python 3"
    },
    "language_info": {
      "name": "python"
    }
  },
  "cells": [
    {
      "cell_type": "markdown",
      "metadata": {
        "id": "view-in-github",
        "colab_type": "text"
      },
      "source": [
        "<a href=\"https://colab.research.google.com/github/shfarhaan/Python-Cheat-Sheets/blob/main/Python_Cheat_Sheet_Notebook%20v1.ipynb\" target=\"_parent\"><img src=\"https://colab.research.google.com/assets/colab-badge.svg\" alt=\"Open In Colab\"/></a>"
      ]
    },
    {
      "cell_type": "markdown",
      "source": [
        "# Python Cheat Sheet"
      ],
      "metadata": {
        "id": "O2p_hGtFalXG"
      }
    },
    {
      "cell_type": "markdown",
      "source": [
        "## **B A S I C S:**"
      ],
      "metadata": {
        "id": "pz0Wxnvoa1Fa"
      }
    },
    {
      "cell_type": "code",
      "execution_count": null,
      "metadata": {
        "colab": {
          "base_uri": "https://localhost:8080/"
        },
        "id": "9qqjVZBeajzL",
        "outputId": "a59b6e27-416e-4f4f-fccf-41492d6acd41"
      },
      "outputs": [
        {
          "output_type": "stream",
          "name": "stdout",
          "text": [
            "Hello World\n"
          ]
        }
      ],
      "source": [
        "# Print\n",
        "# Prints a string into the console. \n",
        "\n",
        "print(\"Hello World\")"
      ]
    },
    {
      "cell_type": "code",
      "source": [
        "# Input\n",
        "# Prints a string into the console, and asks the user for a string input.\n",
        "\n",
        "input(\"What's your name\")"
      ],
      "metadata": {
        "id": "Aqc4daBwbMQM"
      },
      "execution_count": null,
      "outputs": []
    },
    {
      "cell_type": "code",
      "source": [
        "# Comments\n",
        "# Adding a # symbol in font of text lets you make comments on a line of code.\n",
        "# The computer will ignore your comments.\n",
        "\n",
        "# This is a comment\n",
        "print(\"This is code\")"
      ],
      "metadata": {
        "colab": {
          "base_uri": "https://localhost:8080/"
        },
        "id": "P_ZMzy0HbZLL",
        "outputId": "4572de75-e756-4987-93c9-1ec296b684f5"
      },
      "execution_count": null,
      "outputs": [
        {
          "output_type": "stream",
          "name": "stdout",
          "text": [
            "This is code\n"
          ]
        }
      ]
    },
    {
      "cell_type": "code",
      "source": [
        "# Variables\n",
        "# A variable give a name to a piece of data. Like a box with a label, it tells you what's inside the box.\n",
        "\n",
        "my_name = \"Crime Master Gogo\"\n",
        "my_age = 21\n",
        "\n",
        "print(my_name)\n",
        "print(my_age)\n"
      ],
      "metadata": {
        "colab": {
          "base_uri": "https://localhost:8080/"
        },
        "id": "igLyWrX2bt6r",
        "outputId": "972b36e6-5ad1-4f6d-9754-eb24fc5d61c9"
      },
      "execution_count": null,
      "outputs": [
        {
          "output_type": "stream",
          "name": "stdout",
          "text": [
            "Crime Master Gogo\n",
            "21\n"
          ]
        }
      ]
    },
    {
      "cell_type": "code",
      "source": [
        "# The += Operator\n",
        "\n",
        "# This is a convient way of saying: \"take the previous value and add to it.\n",
        "\n",
        "my_age = 21\n",
        "my_age += 4\n",
        "\n",
        "#my_age is now 25\n",
        "print(my_age)"
      ],
      "metadata": {
        "colab": {
          "base_uri": "https://localhost:8080/"
        },
        "id": "UUYvuNSycJEB",
        "outputId": "ea2ced11-8b96-4b68-e375-578f93f237c7"
      },
      "execution_count": null,
      "outputs": [
        {
          "output_type": "stream",
          "name": "stdout",
          "text": [
            "25\n"
          ]
        }
      ]
    },
    {
      "cell_type": "markdown",
      "source": [
        "## **D A T A   T Y P E S**"
      ],
      "metadata": {
        "id": "-16oyklhctnR"
      }
    },
    {
      "cell_type": "code",
      "source": [
        "# Integers\n",
        "# Integers are whole numbers. \n",
        "\n",
        "my_number = 354\n",
        "\n",
        "print(type(my_number))"
      ],
      "metadata": {
        "colab": {
          "base_uri": "https://localhost:8080/"
        },
        "id": "jUBm8mPucY-H",
        "outputId": "4c1cbd48-6209-418a-d322-9384e191bd75"
      },
      "execution_count": null,
      "outputs": [
        {
          "output_type": "stream",
          "name": "stdout",
          "text": [
            "<class 'int'>\n"
          ]
        }
      ]
    },
    {
      "cell_type": "code",
      "source": [
        "# Floating Point Numbers\n",
        "#Floats are numbers with decimal places. When you do a calculation that results in a fraction e.g. 4 ÷ 3 the result will always be a floating point number.\n",
        "\n",
        "my_float = 3.14159\n",
        "\n",
        "print(type(my_float))"
      ],
      "metadata": {
        "colab": {
          "base_uri": "https://localhost:8080/"
        },
        "id": "vIFY7T7oc6BS",
        "outputId": "27c2ae84-65bf-4c78-b28b-2c6f0249f305"
      },
      "execution_count": null,
      "outputs": [
        {
          "output_type": "stream",
          "name": "stdout",
          "text": [
            "<class 'float'>\n"
          ]
        }
      ]
    },
    {
      "cell_type": "code",
      "source": [
        "# Strings\n",
        "# A string is just a string of characters. It should be surrounded by double quotes.\n",
        "\n",
        "my_string = \"Hello\"\n",
        "\n",
        "print(type(my_string))"
      ],
      "metadata": {
        "colab": {
          "base_uri": "https://localhost:8080/"
        },
        "id": "u-IrZVpmdITv",
        "outputId": "a106a1bb-ea1e-48e3-ec31-faa46305cab1"
      },
      "execution_count": null,
      "outputs": [
        {
          "output_type": "stream",
          "name": "stdout",
          "text": [
            "<class 'str'>\n"
          ]
        }
      ]
    },
    {
      "cell_type": "code",
      "source": [
        "# String Concatenation\n",
        "\n",
        "# You can add strings to string to create a new string. This is called concatenation. It results in a new string.\n",
        "\n",
        "print(\"HELLO\" + \"HOOMANS\")\n",
        "#becomes \"HELLOHOOMANS\"\n"
      ],
      "metadata": {
        "colab": {
          "base_uri": "https://localhost:8080/"
        },
        "id": "uTu9kWmldRfb",
        "outputId": "e07bf1f8-93d6-4288-e30f-5cd884a2547a"
      },
      "execution_count": null,
      "outputs": [
        {
          "output_type": "stream",
          "name": "stdout",
          "text": [
            "HELLOHOOMANS\n"
          ]
        }
      ]
    },
    {
      "cell_type": "code",
      "source": [
        "# Escaping a String\n",
        "\n",
        "# Because the double quote is special, it denotes a string, if you want to use it in a string, you need to escape it with a \"\\\"\n",
        "\n",
        "speech = \"She said: \\\"Hi\\\"\"\n",
        "print(speech)\n",
        "\n",
        "#prints: She said: \"Hi\"\n"
      ],
      "metadata": {
        "colab": {
          "base_uri": "https://localhost:8080/"
        },
        "id": "WjpLnVEadeTh",
        "outputId": "59eb21ae-43bd-4cb9-f6c4-b9af3f0e0484"
      },
      "execution_count": null,
      "outputs": [
        {
          "output_type": "stream",
          "name": "stdout",
          "text": [
            "She said: \"Hi\"\n"
          ]
        }
      ]
    },
    {
      "cell_type": "code",
      "source": [
        "# F-Strings\n",
        "\n",
        "# You can insert a variable into a string using f-strings. The syntax is simple, just insert the variable in-between a set of curly braces {}.\n",
        "\n",
        "days = 365\n",
        "print(f\"There are {days} in a year\")\n"
      ],
      "metadata": {
        "colab": {
          "base_uri": "https://localhost:8080/"
        },
        "id": "9QQsvbaZdf7c",
        "outputId": "8493ef4a-4554-4ada-f297-0d0648f0c00e"
      },
      "execution_count": null,
      "outputs": [
        {
          "output_type": "stream",
          "name": "stdout",
          "text": [
            "There are 365 in a year\n"
          ]
        }
      ]
    },
    {
      "cell_type": "code",
      "source": [
        "# Converting Data Types\n",
        "# You can convert a variable from 1 data type to another. \n",
        "\n",
        "# Converting to float:\n",
        "# float()\n",
        "\n",
        "# Converting to int:\n",
        "# int()\n",
        "\n",
        "# Converting to string:\n",
        "# str()\n",
        "\n",
        "n = 354\n",
        "new_n = float(n)\n",
        "print(new_n) #result 354.0"
      ],
      "metadata": {
        "colab": {
          "base_uri": "https://localhost:8080/"
        },
        "id": "0AAze330df5Q",
        "outputId": "3eb3aa03-7af2-4363-963d-8c0d89e4c3ad"
      },
      "execution_count": null,
      "outputs": [
        {
          "output_type": "stream",
          "name": "stdout",
          "text": [
            "354.0\n"
          ]
        }
      ]
    },
    {
      "cell_type": "code",
      "source": [
        "# Checking Data Types\n",
        "\n",
        "# You can use the type() function to check what is the data type of a particular variable.\n",
        "\n",
        "n = 3.14159\n",
        "type(n) #result float"
      ],
      "metadata": {
        "colab": {
          "base_uri": "https://localhost:8080/"
        },
        "id": "QrrZ0Okfdf0x",
        "outputId": "f7988573-acd1-4f41-be7c-f2f89a66253f"
      },
      "execution_count": null,
      "outputs": [
        {
          "output_type": "execute_result",
          "data": {
            "text/plain": [
              "float"
            ]
          },
          "metadata": {},
          "execution_count": 14
        }
      ]
    },
    {
      "cell_type": "markdown",
      "source": [
        "## **M A T H S:**"
      ],
      "metadata": {
        "id": "lr1tsN8Mduwg"
      }
    },
    {
      "cell_type": "code",
      "source": [
        "# Arithmetic Operators\n",
        "\n",
        "# You can do mathematical calculations with Python as long as you know the right operators.\n",
        "\n",
        "3+2 #Add\n",
        "4-1 #Subtract\n",
        "2*3 #Multiply\n",
        "5/2 #Divide\n",
        "5**2 #Exponent\n"
      ],
      "metadata": {
        "id": "RuRM4hzIdfxi"
      },
      "execution_count": null,
      "outputs": []
    },
    {
      "cell_type": "code",
      "source": [
        "# The += Operator\n",
        "\n",
        "# This is a convenient way to modify a variable. \n",
        "# It takes the existing value in a variable and adds to it. \n",
        "# You can also use any of the other mathematical operators e.g. -= or *=\n",
        "\n",
        "my_number = 4\n",
        "my_number += 2\n",
        "\n",
        "#result is 6"
      ],
      "metadata": {
        "id": "8_mfrt1-dfut"
      },
      "execution_count": null,
      "outputs": []
    },
    {
      "cell_type": "code",
      "source": [
        "# The Modulo Operator\n",
        "\n",
        "# Often you'll want to know what is the remainder after a division.\n",
        "# e.g. 4 ÷ 2 = 2 with no remainder but 5 ÷ 2 = 2 with 1 remainder\n",
        "# The modulo does not give you the result of the division, just the remainder.\n",
        "# It can be really helpful in certain situations, \n",
        "# e.g. figuring out if a number is odd or even.\n",
        "\n",
        "print(5 % 2)\n",
        "#result is 1"
      ],
      "metadata": {
        "colab": {
          "base_uri": "https://localhost:8080/"
        },
        "id": "51zeNWP-dfrS",
        "outputId": "830b1d65-4ad5-4284-a2a1-6381de7efb37"
      },
      "execution_count": null,
      "outputs": [
        {
          "output_type": "stream",
          "name": "stdout",
          "text": [
            "1\n"
          ]
        }
      ]
    },
    {
      "cell_type": "markdown",
      "source": [
        "## **E R R O R S**"
      ],
      "metadata": {
        "id": "Qdhs4LlyeFD3"
      }
    },
    {
      "cell_type": "code",
      "source": [
        "# Syntax Error\n",
        "\n",
        "# Syntax errors happen when your code does not make any sense to the computer.\n",
        "# This can happen because you've misspelt something or there's too many brackets or a missing comma.\n",
        "\n",
        "print(12 + 4))\n",
        "\n",
        "File \"<stdin>\", line 1\n",
        "print(12 + 4))\n",
        "            ^\n",
        "SyntaxError: unmatched ')'\n"
      ],
      "metadata": {
        "id": "UFUztWJEdfn4"
      },
      "execution_count": null,
      "outputs": []
    },
    {
      "cell_type": "code",
      "source": [
        "# Name Error\n",
        "# This happens when there is a variable with a name that the computer does not recognise. \n",
        "# It's usually because you've misspelt the name of a variable you created earlier. \n",
        "\n",
        "# Note: variable names are case sensitive!\n",
        "\n",
        "my_number = 4\n",
        "my_Number + 2\n",
        "\n",
        "# Traceback (most recent call\n",
        "# last): File \"<stdin>\", line 1,\n",
        "# NameError: name 'my_Number'\n",
        "# is not defined"
      ],
      "metadata": {
        "id": "094XBLARdfQo"
      },
      "execution_count": null,
      "outputs": []
    },
    {
      "cell_type": "code",
      "source": [
        "# Zero Division Error\n",
        "\n",
        "# This happens when you try to divide by zero. \n",
        "# This is something that is mathematically impossible so Python will also complain.\n",
        "\n",
        "5 % 0\n",
        "\n",
        "# Traceback (most recent call\n",
        "# last): File \"<stdin>\", line 1,\n",
        "# ZeroDivisionError: integer\n",
        "# division or modulo by zero\n"
      ],
      "metadata": {
        "id": "aOvrzOz5eRJN"
      },
      "execution_count": null,
      "outputs": []
    },
    {
      "cell_type": "markdown",
      "source": [
        "## **F U N C T I O N S**\n"
      ],
      "metadata": {
        "id": "itvYuZBSeT1w"
      }
    },
    {
      "cell_type": "code",
      "source": [
        "# Creating Functions\n",
        "\n",
        "# This is the basic syntax for a function in Python. \n",
        "# It allows you to give a set of instructions a name, so you can trigger it\n",
        "# multiple times without having to re-write\n",
        "# or copy-paste it. The contents of the function\n",
        "# must be indented to signal that it's inside.\n",
        "\n",
        "def my_function():\n",
        "  print(\"Hello\")\n",
        "  name = input(\"Your name:\")\n",
        "  print(\"Hello\")\n"
      ],
      "metadata": {
        "id": "f7wEwHlaeRGn"
      },
      "execution_count": null,
      "outputs": []
    },
    {
      "cell_type": "code",
      "source": [
        "# Calling Functions\n",
        "\n",
        "# You activate the function by calling it. \n",
        "# This is simply done by writing the name of\n",
        "# the function followed by a set of round\n",
        "# brackets. This allows you to determine\n",
        "# when to trigger the function and how\n",
        "# many times.\n",
        "\n",
        "my_function()\n",
        "my_function()\n",
        "\n",
        "# The function my_function\n",
        "# will run twice.\n"
      ],
      "metadata": {
        "id": "docqgRsqeRD5"
      },
      "execution_count": null,
      "outputs": []
    },
    {
      "cell_type": "code",
      "source": [
        "# Functions with Inputs\n",
        "\n",
        "# In addition to simple functions, you can\n",
        "# give the function an input, this way, each time\n",
        "# the function can do something different\n",
        "# depending on the input. It makes your\n",
        "# function more useful and re-usable.\n",
        "\n",
        "def add(n1, n2):\n",
        "  print(n1 + n2)\n",
        "  add(2, 3)\n"
      ],
      "metadata": {
        "id": "FNoUGeU6eRBh"
      },
      "execution_count": null,
      "outputs": []
    },
    {
      "cell_type": "code",
      "source": [
        "# Functions with Outputs\n",
        "\n",
        "# In addition to inputs, a function can also have\n",
        "# an output. The output value is proceeded by\n",
        "# the keyword \"return\".\n",
        "# This allows you to store the result from a function.\n",
        "\n",
        "def add(n1, n2):\n",
        "  return n1 + n2\n",
        "\n",
        "result = add(2, 3)\n",
        "print(result)"
      ],
      "metadata": {
        "colab": {
          "base_uri": "https://localhost:8080/"
        },
        "id": "m7gWe04ueQ9p",
        "outputId": "3d2bcccc-fff3-48c6-b594-28b7d5f79b64"
      },
      "execution_count": null,
      "outputs": [
        {
          "output_type": "stream",
          "name": "stdout",
          "text": [
            "5\n"
          ]
        }
      ]
    },
    {
      "cell_type": "code",
      "source": [
        "# Variable Scope\n",
        "\n",
        "# Variables created inside a function are\n",
        "# destroyed once the function has executed.\n",
        "# The location (line of code) that you use\n",
        "# a variable will determine its value.\n",
        "# Here n is 2 but inside my_function() n is 3.\n",
        "# So printing n inside and outside the function\n",
        "# will determine its value.\n",
        "\n",
        "n = 2\n",
        "def my_function():\n",
        "  n = 3\n",
        "  print(n)\n",
        "\n",
        "print(n) #Prints 2\n",
        "my_function() #Prints 3"
      ],
      "metadata": {
        "colab": {
          "base_uri": "https://localhost:8080/"
        },
        "id": "Hy-MLosweQ6T",
        "outputId": "7ff0ffa2-0b5b-41f7-ac87-ca096511f117"
      },
      "execution_count": null,
      "outputs": [
        {
          "output_type": "stream",
          "name": "stdout",
          "text": [
            "2\n",
            "3\n"
          ]
        }
      ]
    },
    {
      "cell_type": "code",
      "source": [
        "# Keyword Arguments\n",
        "\n",
        "# When calling a function, you can provide\n",
        "# a keyword argument or simply just the value.\n",
        "# Using a keyword argument means that\n",
        "# you don't have to follow any order\n",
        "# when providing the inputs.\n",
        "\n",
        "def divide(n1, n2):\n",
        "  result = n1 / n2\n",
        "\n",
        "#Option 1:\n",
        "divide(10, 5)\n",
        "\n",
        "#Option 2:\n",
        "divide(n2=5, n1=10)\n"
      ],
      "metadata": {
        "id": "91r0-9sReQ3E"
      },
      "execution_count": null,
      "outputs": []
    },
    {
      "cell_type": "markdown",
      "source": [
        "## **C O N D I T I O N A L S**"
      ],
      "metadata": {
        "id": "d2kZ_p5afo9Y"
      }
    },
    {
      "cell_type": "code",
      "source": [
        "# If\n",
        "\n",
        "# This is the basic syntax to test if a condition\n",
        "# is true. If so, the indented code will be\n",
        "# executed, if not it will be skipped.\n",
        "\n",
        "n = 5\n",
        "if n > 2:\n",
        "  print(\"Larger than 2\")\n",
        "\n"
      ],
      "metadata": {
        "colab": {
          "base_uri": "https://localhost:8080/"
        },
        "id": "U1jOcorWeQ0Z",
        "outputId": "5f8f1f1c-9c43-4659-ff69-f65223aee07c"
      },
      "execution_count": null,
      "outputs": [
        {
          "output_type": "stream",
          "name": "stdout",
          "text": [
            "Larger than 2\n"
          ]
        }
      ]
    },
    {
      "cell_type": "code",
      "source": [
        "# Else\n",
        "\n",
        "# This is a way to specify some code that will be\n",
        "# executed if a condition is false.\n",
        "\n",
        "age = 18\n",
        "if age > 16:\n",
        "  print(\"Can drive\")\n",
        "else:\n",
        "  print(\"Don't drive\")"
      ],
      "metadata": {
        "colab": {
          "base_uri": "https://localhost:8080/"
        },
        "id": "xcp89v6XeQw4",
        "outputId": "cc6c035d-2d75-4f30-b71d-816eefb210f4"
      },
      "execution_count": null,
      "outputs": [
        {
          "output_type": "stream",
          "name": "stdout",
          "text": [
            "Can drive\n"
          ]
        }
      ]
    },
    {
      "cell_type": "code",
      "source": [
        "# Elif\n",
        "\n",
        "# In addition to the initial If statement\n",
        "# condition, you can add extra conditions to\n",
        "# test if the first condition is false.\n",
        "# Once an elif condition is true, the rest of\n",
        "# the elif conditions are no longer checked\n",
        "# and are skipped.\n",
        "\n",
        "weather = \"sunny\"\n",
        "if weather == \"rain\":\n",
        "  print(\"bring umbrella\")\n",
        "elif weather == \"sunny\":\n",
        "  print(\"bring sunglasses\")\n",
        "elif weather == \"snow\":\n",
        "  print(\"bring gloves\")\n"
      ],
      "metadata": {
        "colab": {
          "base_uri": "https://localhost:8080/"
        },
        "id": "VmsvdhKnfwj-",
        "outputId": "b42f6694-bd76-4b52-a333-a1e75d1c9f8f"
      },
      "execution_count": null,
      "outputs": [
        {
          "output_type": "stream",
          "name": "stdout",
          "text": [
            "bring sunglasses\n"
          ]
        }
      ]
    },
    {
      "cell_type": "code",
      "source": [
        "# and\n",
        "\n",
        "# This expects both conditions either side\n",
        "# of the and to be true.\n",
        "\n",
        "s = 58\n",
        "if s < 60 and s > 50:\n",
        "  print(\"Your grade is C\")"
      ],
      "metadata": {
        "colab": {
          "base_uri": "https://localhost:8080/"
        },
        "id": "QiNYwELDfwhT",
        "outputId": "75aabd76-7e1e-405f-abcc-78cc48870145"
      },
      "execution_count": null,
      "outputs": [
        {
          "output_type": "stream",
          "name": "stdout",
          "text": [
            "Your grade is C\n"
          ]
        }
      ]
    },
    {
      "cell_type": "code",
      "source": [
        "# or\n",
        "\n",
        "# This expects either of the conditions either\n",
        "# side of the or to be true. Basically, both\n",
        "# conditions cannot be false.\n",
        "\n",
        "age = 12\n",
        "if age < 16 or age > 200:\n",
        "  print(\"Can't drive\")"
      ],
      "metadata": {
        "colab": {
          "base_uri": "https://localhost:8080/"
        },
        "id": "rgUDgL-1fwei",
        "outputId": "87184f42-460d-4989-8159-8bf675f34a20"
      },
      "execution_count": null,
      "outputs": [
        {
          "output_type": "stream",
          "name": "stdout",
          "text": [
            "Can't drive\n"
          ]
        }
      ]
    },
    {
      "cell_type": "code",
      "source": [
        "# not\n",
        "\n",
        "# This will flip the original result of the\n",
        "# condition. e.g. if it was true then it's now false.\n",
        "\n",
        "if not 3 > 1:\n",
        "  print(\"something\")\n",
        "\n",
        "# Will not be printed."
      ],
      "metadata": {
        "id": "foQ1aiF3fwbu"
      },
      "execution_count": null,
      "outputs": []
    },
    {
      "cell_type": "code",
      "source": [
        "# comparison operators\n",
        "\n",
        "# These mathematical comparison operators\n",
        "# allow you to refine your conditional checks.\n",
        "\n",
        "> Greater than\n",
        "< Lesser than\n",
        ">= Greater than or equal to\n",
        "<= Lesser than or equal to\n",
        "== Is equal to\n",
        "!= Is not equal to\n"
      ],
      "metadata": {
        "id": "fZaEu95HfwY5"
      },
      "execution_count": null,
      "outputs": []
    },
    {
      "cell_type": "markdown",
      "source": [
        "## **L O O P S**"
      ],
      "metadata": {
        "id": "ti78jLVCf-2X"
      }
    },
    {
      "cell_type": "code",
      "source": [
        "#While Loop\n",
        "\n",
        "# This is a loop that will keep repeating itself\n",
        "# until the while condition becomes false.\n",
        "\n",
        "n = 1\n",
        "while n <= 107:\n",
        "  n += 1\n",
        "\n",
        "print(n)"
      ],
      "metadata": {
        "colab": {
          "base_uri": "https://localhost:8080/"
        },
        "id": "aaycXil2f-ai",
        "outputId": "8255c088-9e1e-43eb-ecea-fdce2683bc42"
      },
      "execution_count": null,
      "outputs": [
        {
          "output_type": "stream",
          "name": "stdout",
          "text": [
            "108\n"
          ]
        }
      ]
    },
    {
      "cell_type": "code",
      "source": [
        "# For Loop\n",
        "\n",
        "# For loops give you more control than\n",
        "# while loops. You can loop through anything\n",
        "# that is iterable. e.g. a range, a list, a dictionary or tuple.\n",
        "\n",
        "all_fruits = [\"apple\", \"banana\", \"orange\"]\n",
        "for fruit in all_fruits:\n",
        "  print(fruit)\n"
      ],
      "metadata": {
        "colab": {
          "base_uri": "https://localhost:8080/"
        },
        "id": "-w3Faq5UfwPn",
        "outputId": "909d9741-08ab-40e6-8617-cdefdc684cf4"
      },
      "execution_count": null,
      "outputs": [
        {
          "output_type": "stream",
          "name": "stdout",
          "text": [
            "apple\n",
            "banana\n",
            "orange\n"
          ]
        }
      ]
    },
    {
      "cell_type": "code",
      "source": [
        "# _ in a For Loop\n",
        "\n",
        "# If the value your for loop is iterating through,\n",
        "# e.g. the number in the range, or the item in\n",
        "# the list is not needed, you can replace it with an underscore.\n",
        "\n",
        "for _ in range(100):\n",
        "# Means To Do something 100 times."
      ],
      "metadata": {
        "id": "t9Ih-0w5fwMT"
      },
      "execution_count": null,
      "outputs": []
    },
    {
      "cell_type": "code",
      "source": [
        "# break\n",
        "\n",
        "# This keyword allows you to break free of the\n",
        "# loop. You can use it in a for or while loop.\n",
        "\n",
        "scores = [34, 67, 99, 105]\n",
        "for s in scores:\n",
        "  if s > 100:\n",
        "    print(\"Invalid\")\n",
        "    break\n",
        "  print(s)\n"
      ],
      "metadata": {
        "colab": {
          "base_uri": "https://localhost:8080/"
        },
        "id": "C4gbcaisfwIS",
        "outputId": "ca5f5fa3-61f3-4fb3-e3df-bae81f2c1955"
      },
      "execution_count": null,
      "outputs": [
        {
          "output_type": "stream",
          "name": "stdout",
          "text": [
            "34\n",
            "67\n",
            "99\n",
            "Invalid\n"
          ]
        }
      ]
    },
    {
      "cell_type": "code",
      "source": [
        "# Infinite Loops\n",
        "\n",
        "# Sometimes, the condition you are checking\n",
        "# to see if the loop should continue never\n",
        "# becomes false. In this case, the loop will\n",
        "# continue for eternity (or until your computer\n",
        "# stops it). This is more common with while loops.\n",
        "\n",
        "while 5 > 1:\n",
        "  print(\"I'm a survivor\")\n",
        "  break\n"
      ],
      "metadata": {
        "colab": {
          "base_uri": "https://localhost:8080/"
        },
        "id": "zYxHGtQmjMvc",
        "outputId": "2f57cc9a-5ea3-4b7e-bb8e-a6603deaf3cd"
      },
      "execution_count": null,
      "outputs": [
        {
          "output_type": "stream",
          "name": "stdout",
          "text": [
            "I'm a survivor\n"
          ]
        }
      ]
    },
    {
      "cell_type": "markdown",
      "source": [
        "## **LIST  METHODS**"
      ],
      "metadata": {
        "id": "JuuI5L1-jV_N"
      }
    },
    {
      "cell_type": "code",
      "source": [
        "# Adding Lists Together\n",
        "\n",
        "# You can extend a list with another list by\n",
        "# using the extend keyword, or the + symbol.\n",
        "\n",
        "list1 = [1, 2, 3]\n",
        "list2 = [9, 8, 7]\n",
        "new_list = list1 + list2\n",
        "list2 += list2\n",
        "\n",
        "print(new_list)\n",
        "print(list1)\n",
        "\n",
        "list1.extend(list2)\n",
        "print(list1)"
      ],
      "metadata": {
        "colab": {
          "base_uri": "https://localhost:8080/"
        },
        "id": "MNfd4qwnjMsf",
        "outputId": "686464d9-d314-46df-f70b-4deab3488f0a"
      },
      "execution_count": null,
      "outputs": [
        {
          "output_type": "stream",
          "name": "stdout",
          "text": [
            "[1, 2, 3, 9, 8, 7]\n",
            "[1, 2, 3]\n",
            "[1, 2, 3, 9, 8, 7, 9, 8, 7]\n"
          ]
        }
      ]
    },
    {
      "cell_type": "code",
      "source": [
        "# Adding an Item to a List\n",
        "\n",
        "# If you just want to add a single item to a\n",
        "# list, you need to use the .append() method.\n",
        "\n",
        "all_fruits = [\"apple\",\"banana\", \"orange\"]\n",
        "all_fruits.append(\"pear\")\n",
        "\n",
        "print(all_fruits)"
      ],
      "metadata": {
        "colab": {
          "base_uri": "https://localhost:8080/"
        },
        "id": "lhFqzTW3jMpv",
        "outputId": "254e1ef8-54e3-4653-cb57-3b9c96385c97"
      },
      "execution_count": null,
      "outputs": [
        {
          "output_type": "stream",
          "name": "stdout",
          "text": [
            "['apple', 'banana', 'orange', 'pear']\n"
          ]
        }
      ]
    },
    {
      "cell_type": "code",
      "source": [
        "# List Index\n",
        "\n",
        "# To get hold of a particular item from a \n",
        "# list you can use its index number.\n",
        "# This number can also be negative, if you\n",
        "# want to start counting from the end of the list.\n",
        "\n",
        "letters = [\"a\", \"b\", \"c\"]\n",
        "print(letters[0])\n",
        "\n",
        "print(letters[-1]) # Counts in reverse"
      ],
      "metadata": {
        "colab": {
          "base_uri": "https://localhost:8080/"
        },
        "id": "CSX6qECxjMnD",
        "outputId": "35316b4f-1e53-4773-e872-dfe567decb23"
      },
      "execution_count": null,
      "outputs": [
        {
          "output_type": "stream",
          "name": "stdout",
          "text": [
            "a\n",
            "c\n"
          ]
        }
      ]
    },
    {
      "cell_type": "code",
      "source": [
        "# List Slicing\n",
        "\n",
        "# Using the list index and the colon symbol\n",
        "# you can slice up a list to get only the portion you want.\n",
        "# Start is included, but end is not.\n",
        "\n",
        "#list[start:end]\n",
        "letters = [\"a\",\"b\",\"c\",\"d\"]\n",
        "print(letters[1:3])\n"
      ],
      "metadata": {
        "colab": {
          "base_uri": "https://localhost:8080/"
        },
        "id": "RJ2LTLRPjMkk",
        "outputId": "2f6b2809-0036-428e-9a3e-9eb464a4df26"
      },
      "execution_count": null,
      "outputs": [
        {
          "output_type": "stream",
          "name": "stdout",
          "text": [
            "['b', 'c']\n"
          ]
        }
      ]
    },
    {
      "cell_type": "markdown",
      "source": [
        "## **BUILT IN FUNCTIONS**"
      ],
      "metadata": {
        "id": "_xkq1F9PjqFq"
      }
    },
    {
      "cell_type": "code",
      "source": [
        "# Range\n",
        "\n",
        "# Often you will want to generate a range\n",
        "# of numbers. You can specify the start, end and step.\n",
        "# Start is included, but end is excluded:\n",
        "# start >= range < end\n",
        "\n",
        "# range(start, end, step)\n",
        "for i in range(24, -5, -4):\n",
        "  print(i)\n",
        "\n",
        "# result: 24, 20, 16, 12, 8, 4, 0, -4\n",
        "# 0 is not included."
      ],
      "metadata": {
        "colab": {
          "base_uri": "https://localhost:8080/"
        },
        "id": "aIBs6Z17jMh0",
        "outputId": "9b4d80b2-9312-4e57-d1df-0784d78c4432"
      },
      "execution_count": null,
      "outputs": [
        {
          "output_type": "stream",
          "name": "stdout",
          "text": [
            "24\n",
            "20\n",
            "16\n",
            "12\n",
            "8\n",
            "4\n",
            "0\n",
            "-4\n"
          ]
        }
      ]
    },
    {
      "cell_type": "code",
      "source": [
        "# Randomisation\n",
        "\n",
        "# The random functions come from the\n",
        "# random module which needs to be imported.\n",
        "# In this case, the start and end are both included\n",
        "# start <= randint <= end\n",
        "\n",
        "import random\n",
        "# randint(start, end)\n",
        "n = random.randint(1, 6)\n",
        "#n can be 2, 3, 4 or 5.\n",
        "print(n)"
      ],
      "metadata": {
        "colab": {
          "base_uri": "https://localhost:8080/"
        },
        "id": "eJ6KmCfNjMfc",
        "outputId": "8ffdf020-3849-494b-d292-634e54998edf"
      },
      "execution_count": null,
      "outputs": [
        {
          "output_type": "stream",
          "name": "stdout",
          "text": [
            "2\n"
          ]
        }
      ]
    },
    {
      "cell_type": "code",
      "source": [
        "# Round\n",
        "\n",
        "# This does a mathematical round.\n",
        "# So 3.1 becomes 3, 4.5 becomes 5 and 5.8 becomes 6.\n",
        "\n",
        "print(round(4.6))\n",
        "# result 5\n"
      ],
      "metadata": {
        "colab": {
          "base_uri": "https://localhost:8080/"
        },
        "id": "mW1gZT6JjMbO",
        "outputId": "e1c03d75-477b-4659-bb24-06342df35810"
      },
      "execution_count": null,
      "outputs": [
        {
          "output_type": "stream",
          "name": "stdout",
          "text": [
            "5\n"
          ]
        }
      ]
    },
    {
      "cell_type": "code",
      "source": [
        "# abs\n",
        "\n",
        "# This returns the absolute value.\n",
        "# Basically removing any -ve signs. \n",
        "\n",
        "print(abs(-4.6))\n",
        "\n",
        "# result 4.6\n"
      ],
      "metadata": {
        "colab": {
          "base_uri": "https://localhost:8080/"
        },
        "id": "lpT8NAvJjMXp",
        "outputId": "da665cd1-fdcb-42e5-bead-c6d5a04b991c"
      },
      "execution_count": null,
      "outputs": [
        {
          "output_type": "stream",
          "name": "stdout",
          "text": [
            "4.6\n"
          ]
        }
      ]
    },
    {
      "cell_type": "markdown",
      "source": [
        "## **MODULES**"
      ],
      "metadata": {
        "id": "uA2UDkJtj9__"
      }
    },
    {
      "cell_type": "code",
      "source": [
        "# Importing\n",
        "\n",
        "# Some modules are pre-installed with python \n",
        "# e.g. random/datetime\n",
        "# Other modules need to be installed from pypi.org\n",
        "\n",
        "import random\n",
        "n = random.randint(3, 10)\n",
        "\n",
        "print(n)"
      ],
      "metadata": {
        "colab": {
          "base_uri": "https://localhost:8080/"
        },
        "id": "EHfsMhyVj3x7",
        "outputId": "691f7a60-410b-41fa-c674-b89ffd10a48f"
      },
      "execution_count": null,
      "outputs": [
        {
          "output_type": "stream",
          "name": "stdout",
          "text": [
            "9\n"
          ]
        }
      ]
    },
    {
      "cell_type": "code",
      "source": [
        "# Aliasing\n",
        "\n",
        "# You can use the as keyword to give\n",
        "# your module a different name.\n",
        "\n",
        "import random as r\n",
        "n = r.randint(1, 5)\n",
        "\n",
        "print(n)"
      ],
      "metadata": {
        "colab": {
          "base_uri": "https://localhost:8080/"
        },
        "id": "fXgwes-mj3u2",
        "outputId": "05186db4-2cc7-4d2e-8994-77d002f2bc02"
      },
      "execution_count": null,
      "outputs": [
        {
          "output_type": "stream",
          "name": "stdout",
          "text": [
            "2\n"
          ]
        }
      ]
    },
    {
      "cell_type": "code",
      "source": [
        "# Importing from modules\n",
        "\n",
        "# You can import a specific thing from a\n",
        "# module. e.g. a function/class/constant\n",
        "# You do this with the from keyword.\n",
        "# It can save you from having to type the same\n",
        "# thing many times.\n",
        "\n",
        "from random import randint\n",
        "n = randint(1, 5)\n",
        "\n",
        "print(n)"
      ],
      "metadata": {
        "colab": {
          "base_uri": "https://localhost:8080/"
        },
        "id": "avekGZcWj3sF",
        "outputId": "72f31b3d-2c89-4ac1-bcd7-1bafa122f0f2"
      },
      "execution_count": null,
      "outputs": [
        {
          "output_type": "stream",
          "name": "stdout",
          "text": [
            "5\n"
          ]
        }
      ]
    },
    {
      "cell_type": "code",
      "source": [
        "# Importing Everything\n",
        "\n",
        "# You can use the wildcard (*) to import\n",
        "# everything from a module. \n",
        "\n",
        "# N.B. Beware, this usually reduces code readability.\n",
        "\n",
        "from random import *\n",
        "list = [1, 2, 3]\n",
        "choice(list)\n",
        "\n",
        "# More readable/understood\n",
        "# random.choice(list)\n"
      ],
      "metadata": {
        "id": "05FSpDDwj3pi"
      },
      "execution_count": null,
      "outputs": []
    },
    {
      "cell_type": "markdown",
      "source": [
        "## **CLASSES AND OBJECTS**"
      ],
      "metadata": {
        "id": "By9mGSCGkJGq"
      }
    },
    {
      "cell_type": "code",
      "source": [
        "# Creating a Python Class\n",
        "\n",
        "# You create a class using the class keyword.\n",
        "# Note, class names in Python are PascalCased.\n",
        "# So to create an empty class: \n",
        "\n",
        "class MyClass:\n",
        "  # define class"
      ],
      "metadata": {
        "id": "6iG4Xm96j3ma"
      },
      "execution_count": null,
      "outputs": []
    },
    {
      "cell_type": "code",
      "source": [
        "# Creating an Object from a Class\n",
        "\n",
        "# You can create a new instance of an object\n",
        "# by using the class name + ()\n",
        "\n",
        "class Car:\n",
        "  pass\n",
        "\n",
        "my_toyota = Car()"
      ],
      "metadata": {
        "id": "U3Uqpr7hj3jf"
      },
      "execution_count": null,
      "outputs": []
    },
    {
      "cell_type": "code",
      "source": [
        "# Class Methods\n",
        "\n",
        "# You can create a function that belongs\n",
        "# to a class, this is known as a method.\n",
        "\n",
        "class Car:\n",
        "  def drive(self):\n",
        "    print(\"move\")\n",
        "my_honda = Car()\n",
        "my_honda.drive()\n"
      ],
      "metadata": {
        "colab": {
          "base_uri": "https://localhost:8080/"
        },
        "id": "HwraQK3nj3g8",
        "outputId": "736b22cf-c430-461c-e0f6-6904acf5acf3"
      },
      "execution_count": null,
      "outputs": [
        {
          "output_type": "stream",
          "name": "stdout",
          "text": [
            "move\n"
          ]
        }
      ]
    },
    {
      "cell_type": "code",
      "source": [
        "# Class Variables\n",
        "\n",
        "# You can create a varaiable in a class.\n",
        "# The value of the variable will be available\n",
        "# to all objects created from the class.\n",
        "\n",
        "class Car:\n",
        "  colour = \"black\"\n",
        "car1 = Car()\n",
        "print(car1.colour) #blacK"
      ],
      "metadata": {
        "colab": {
          "base_uri": "https://localhost:8080/"
        },
        "id": "IDKfjGrmj3eX",
        "outputId": "589a8916-bc15-4b43-e76d-bef5d2e0daa1"
      },
      "execution_count": null,
      "outputs": [
        {
          "output_type": "stream",
          "name": "stdout",
          "text": [
            "black\n"
          ]
        }
      ]
    },
    {
      "cell_type": "code",
      "source": [
        "# The __init__ method\n",
        "# The init method is called every time a new\n",
        "# object is created from the class.\n",
        "\n",
        "class Car:\n",
        "  def __init__(self):\n",
        "    print(\"Building car\")\n",
        "\n",
        "my_toyota = Car()\n",
        "#You will see \"building car\"\n",
        "#printed."
      ],
      "metadata": {
        "colab": {
          "base_uri": "https://localhost:8080/"
        },
        "id": "mdbRYVMWj3aN",
        "outputId": "0d57e4d0-8e6e-4e58-8ff8-61241d2520dc"
      },
      "execution_count": null,
      "outputs": [
        {
          "output_type": "stream",
          "name": "stdout",
          "text": [
            "Building car\n"
          ]
        }
      ]
    },
    {
      "cell_type": "code",
      "source": [
        "# Class Properties\n",
        "\n",
        "# You can create a variable in the init() of\n",
        "# a class so that all objects created from the\n",
        "# class has access to that variable.\n",
        "\n",
        "class Car:\n",
        "  def __init__(self, name):\n",
        "    self.name = \"Jimmy\""
      ],
      "metadata": {
        "id": "Ilyyocllj3XH"
      },
      "execution_count": null,
      "outputs": []
    },
    {
      "cell_type": "code",
      "source": [
        "# Class Inheritance\n",
        "\n",
        "# When you create a new class, you can\n",
        "# inherit the methods and properties\n",
        "# of another class.\n",
        "\n",
        "class Animal:\n",
        "  def breathe(self):\n",
        "    print(\"breathing\")\n",
        "\n",
        "class Fish(Animal):\n",
        "  def breathe(self):\n",
        "    super().breathe()\n",
        "    print(\"underwater\")\n",
        "\n",
        "nemo = Fish()\n",
        "nemo.breathe()\n",
        "#Result:\n",
        "#breathing\n",
        "#underwater\n"
      ],
      "metadata": {
        "colab": {
          "base_uri": "https://localhost:8080/"
        },
        "id": "h4f_0FuXjMUP",
        "outputId": "79d2fff1-ce46-414c-c9ae-52bb4b797aa3"
      },
      "execution_count": null,
      "outputs": [
        {
          "output_type": "stream",
          "name": "stdout",
          "text": [
            "breathing\n",
            "underwater\n"
          ]
        }
      ]
    },
    {
      "cell_type": "code",
      "source": [],
      "metadata": {
        "id": "sZhye16zj6-f"
      },
      "execution_count": null,
      "outputs": []
    }
  ]
}